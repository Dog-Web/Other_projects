{
  "nbformat": 4,
  "nbformat_minor": 0,
  "metadata": {
    "colab": {
      "name": "WebInterface.ipynb",
      "provenance": [],
      "collapsed_sections": []
    },
    "kernelspec": {
      "name": "python3",
      "display_name": "Python 3"
    }
  },
  "cells": [
    {
      "cell_type": "code",
      "metadata": {
        "colab": {
          "base_uri": "https://localhost:8080/"
        },
        "id": "RAkjW3BkeN1V",
        "outputId": "8a839971-eda3-4c65-bf4d-e70e001b6d6a"
      },
      "source": [
        "!pip install --quiet gradio"
      ],
      "execution_count": 1,
      "outputs": [
        {
          "output_type": "stream",
          "text": [
            "\u001b[K     |████████████████████████████████| 1.1MB 5.7MB/s \n",
            "\u001b[K     |████████████████████████████████| 215kB 15.6MB/s \n",
            "\u001b[K     |████████████████████████████████| 962kB 21.2MB/s \n",
            "\u001b[K     |████████████████████████████████| 3.2MB 45.4MB/s \n",
            "\u001b[K     |████████████████████████████████| 71kB 5.6MB/s \n",
            "\u001b[?25h  Building wheel for Flask-BasicAuth (setup.py) ... \u001b[?25l\u001b[?25hdone\n",
            "  Building wheel for flask-cachebuster (setup.py) ... \u001b[?25l\u001b[?25hdone\n",
            "  Building wheel for ffmpy (setup.py) ... \u001b[?25l\u001b[?25hdone\n"
          ],
          "name": "stdout"
        }
      ]
    },
    {
      "cell_type": "markdown",
      "metadata": {
        "id": "QmOIw_JQegCJ"
      },
      "source": [
        "**Bringing** **Libraries** "
      ]
    },
    {
      "cell_type": "code",
      "metadata": {
        "id": "mZVyQvLwecDY"
      },
      "source": [
        "import gradio as gr\r\n",
        "import tensorflow as tf\r\n",
        "from tensorflow import keras\r\n",
        "import numpy as np"
      ],
      "execution_count": 2,
      "outputs": []
    },
    {
      "cell_type": "markdown",
      "metadata": {
        "id": "j0h1rFvTfBL2"
      },
      "source": [
        "**Model and Labels defination**"
      ]
    },
    {
      "cell_type": "code",
      "metadata": {
        "id": "jkJ-Wt3TeoF1"
      },
      "source": [
        "new_model = tf.keras.models.load_model('digit.h5')\r\n",
        "labels = ['0','1','2','3','4','5','6','7','8','9']"
      ],
      "execution_count": 4,
      "outputs": []
    },
    {
      "cell_type": "markdown",
      "metadata": {
        "id": "eCVJXeaHf16i"
      },
      "source": [
        "**Application Interface with our model** \r\n",
        "\r\n",
        "\r\n",
        "> Function to return confidence for each label for input image\r\n",
        "\r\n"
      ]
    },
    {
      "cell_type": "code",
      "metadata": {
        "id": "9Cf3_2JbfOYh"
      },
      "source": [
        "\r\n",
        "def classify_image(inp):\r\n",
        "    inp = inp.reshape((-1, 28, 28, 1))  #The resolution of input image should match with data used for training inside the model \r\n",
        "    prediction = new_model.predict(inp).flatten()\r\n",
        "    return {labels[i]: float(prediction[i]) for i in range(10)}"
      ],
      "execution_count": 5,
      "outputs": []
    },
    {
      "cell_type": "code",
      "metadata": {
        "colab": {
          "base_uri": "https://localhost:8080/",
          "height": 638
        },
        "id": "djDasWQihVHF",
        "outputId": "5dcf721f-16f6-4470-ce87-6e5af6980cb3"
      },
      "source": [
        "#image = gr.inputs.Image(shape=(28, 28))\r\n",
        "#gr.Interface(classify_image, image, label,capture_session=True).launch(debug=True)\r\n",
        "#Uncomment if image options are required\r\n",
        "\r\n",
        "label = gr.outputs.Label(num_top_classes=3)\r\n",
        "sketchpad = gr.inputs.Sketchpad()\r\n",
        "gr.Interface(fn=classify_image, inputs=\"sketchpad\", outputs=\"label\",live=True).launch() "
      ],
      "execution_count": 6,
      "outputs": [
        {
          "output_type": "stream",
          "text": [
            "Colab notebook detected. To show errors in colab notebook, set `debug=True` in `launch()`\n",
            "This share link will expire in 24 hours. If you need a permanent link, visit: https://gradio.app/introducing-hosted (NEW!)\n",
            "Running on External URL: https://50039.gradio.app\n",
            "Interface loading below...\n"
          ],
          "name": "stdout"
        },
        {
          "output_type": "display_data",
          "data": {
            "text/html": [
              "\n",
              "        <iframe\n",
              "            width=\"1000\"\n",
              "            height=\"500\"\n",
              "            src=\"https://50039.gradio.app\"\n",
              "            frameborder=\"0\"\n",
              "            allowfullscreen\n",
              "        ></iframe>\n",
              "        "
            ],
            "text/plain": [
              "<IPython.lib.display.IFrame at 0x7f12bbf2e650>"
            ]
          },
          "metadata": {
            "tags": []
          }
        },
        {
          "output_type": "execute_result",
          "data": {
            "text/plain": [
              "(<Flask 'gradio.networking'>,\n",
              " 'http://127.0.0.1:7860/',\n",
              " 'https://50039.gradio.app')"
            ]
          },
          "metadata": {
            "tags": []
          },
          "execution_count": 6
        }
      ]
    }
  ]
}